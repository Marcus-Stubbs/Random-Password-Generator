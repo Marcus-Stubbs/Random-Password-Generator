{
  "nbformat": 4,
  "nbformat_minor": 0,
  "metadata": {
    "colab": {
      "name": "Random password generator.ipynb",
      "provenance": []
    },
    "kernelspec": {
      "name": "python3",
      "display_name": "Python 3"
    },
    "language_info": {
      "name": "python"
    }
  },
  "cells": [
    {
      "cell_type": "code",
      "metadata": {
        "id": "I5m8ywgwzcA0",
        "colab": {
          "base_uri": "https://localhost:8080/"
        },
        "outputId": "b756e5b9-630c-4be1-8774-2846cf4fcd5a"
      },
      "source": [
        "import random\n",
        "import string \n",
        "\n",
        "print(\"Hello, welcome to the random password generator! \")\n",
        "\n",
        "length = int(input('\\nEnter the lenth of the password: '))\n",
        "\n",
        "lower = string.ascii_lowercase\n",
        "upper = string.ascii_uppercase \n",
        "num = string.digits\n",
        "symbols = string.punctuation\n",
        "\n",
        "all = lower + upper + num + symbols\n",
        "\n",
        "temp = random.sample(all, length)\n",
        "password = \"\".join(temp)\n",
        "print(password)"
      ],
      "execution_count": null,
      "outputs": [
        {
          "output_type": "stream",
          "name": "stdout",
          "text": [
            "Hello, welcome to the random password generator! \n",
            "\n",
            "Enter the lenth of the password: 16\n",
            "5q,(L8|JDAUh)$e;\n"
          ]
        }
      ]
    }
  ]
}